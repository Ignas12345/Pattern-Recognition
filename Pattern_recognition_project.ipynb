{
  "nbformat": 4,
  "nbformat_minor": 0,
  "metadata": {
    "colab": {
      "provenance": []
    },
    "kernelspec": {
      "name": "python3",
      "display_name": "Python 3"
    },
    "language_info": {
      "name": "python"
    }
  },
  "cells": [
    {
      "cell_type": "code",
      "execution_count": 1,
      "metadata": {
        "colab": {
          "base_uri": "https://localhost:8080/"
        },
        "id": "O6vOtUd12iFy",
        "outputId": "79500bc0-d129-41cd-b3e0-6e1f3af03416"
      },
      "outputs": [
        {
          "output_type": "stream",
          "name": "stdout",
          "text": [
            "Cloning into 'Pattern-Recognition'...\n",
            "remote: Enumerating objects: 43, done.\u001b[K\n",
            "remote: Counting objects: 100% (43/43), done.\u001b[K\n",
            "remote: Compressing objects: 100% (43/43), done.\u001b[K\n",
            "remote: Total 43 (delta 17), reused 0 (delta 0), pack-reused 0\u001b[K\n",
            "Receiving objects: 100% (43/43), 665.73 KiB | 4.82 MiB/s, done.\n",
            "Resolving deltas: 100% (17/17), done.\n"
          ]
        }
      ],
      "source": [
        "!git clone https://github.com/Ignas12345/Pattern-Recognition.git\n",
        "!mv Pattern-Recognition/* ./"
      ]
    },
    {
      "cell_type": "code",
      "source": [
        "import pandas as pd\n",
        "import matplotlib.pyplot as plt\n",
        "from GaussD import GaussD\n",
        "import numpy as np\n",
        "from MarkovChain import MarkovChain\n",
        "from HMM import HMM\n",
        "\n",
        "def initialize_emissions(activity_data):\n",
        "    standing_mean = activity_data[0]['Absolute acceleration (m/s^2)'].mean()\n",
        "    standing_std = activity_data[0]['Absolute acceleration (m/s^2)'].std()\n",
        "\n",
        "    walking_mean = activity_data[1]['Absolute acceleration (m/s^2)'].mean()\n",
        "    walking_std = activity_data[1]['Absolute acceleration (m/s^2)'].std()\n",
        "\n",
        "    running_mean = activity_data[2]['Absolute acceleration (m/s^2)'].mean()\n",
        "    running_std = activity_data[2]['Absolute acceleration (m/s^2)'].std()\n",
        "\n",
        "    standing_dist = [standing_mean, standing_std]\n",
        "    walking_dist = [walking_mean, walking_std]\n",
        "    running_dist = [running_mean, running_std]\n",
        "    return standing_dist, walking_dist, running_dist\n",
        "\n",
        "\n",
        "file_path_running_train = 'train_sets/Acceleration_without_g_running_train_1.xls'\n",
        "file_path_standing_train = 'train_sets/Acceleration_without_g_standing_train_1.xls'\n",
        "file_path_walking_train = 'train_sets/Acceleration_without_g_walking_train_1.xls'\n",
        "\n",
        "file_path_running_test = 'test_sets/Acceleration_without_g_running_test_1.xls'\n",
        "file_path_standing_test = 'test_sets/Acceleration_without_g_standing_test_1.xls'\n",
        "file_path_walking_test = 'test_sets/Acceleration_without_g_walking_test_1.xls'\n",
        "\n",
        "# Load the data from Excel files\n",
        "running_train = pd.read_excel(file_path_running_train, engine='xlrd', usecols=[\"Absolute acceleration (m/s^2)\"])\n",
        "standing_train = pd.read_excel(file_path_standing_train, engine='xlrd', usecols=[\"Absolute acceleration (m/s^2)\"])\n",
        "walking_train = pd.read_excel(file_path_walking_train, engine='xlrd', usecols=[\"Absolute acceleration (m/s^2)\"])\n",
        "\n",
        "running_test = pd.read_excel(file_path_running_test, engine='xlrd', usecols=[\"Absolute acceleration (m/s^2)\"])\n",
        "standing_test = pd.read_excel(file_path_standing_test, engine='xlrd', usecols=[\"Absolute acceleration (m/s^2)\"])\n",
        "walking_test = pd.read_excel(file_path_walking_test, engine='xlrd', usecols=[\"Absolute acceleration (m/s^2)\"])\n",
        "\n",
        "\n",
        "q = np.array([1/3, 1/3, 1/3])\n",
        "A = np.array([\n",
        "    [0.9, 0.05, 0.05],\n",
        "    [0.05, 0.9, 0.05],\n",
        "    [0.05, 0.05, 0.9]\n",
        "])\n",
        "chain = MarkovChain(q, A)\n",
        "training_data = [standing_train, walking_train, running_train]\n",
        "initial_standing_distribution, initial_walking_distribution, initial_running_distribution = initialize_emissions(training_data)\n",
        "standing_distribution = GaussD(means=[initial_standing_distribution[0]], stdevs=[initial_standing_distribution[1]])\n",
        "walking_distribution = GaussD(means=[initial_walking_distribution[0]], stdevs=[initial_walking_distribution[1]])\n",
        "running_distribution = GaussD(means=[initial_running_distribution[0]], stdevs=[initial_running_distribution[1]])\n",
        "h = HMM(chain, [standing_distribution, walking_distribution, running_distribution])\n",
        "\n",
        "combined_training_array = np.concatenate([\n",
        "    standing_train['Absolute acceleration (m/s^2)'].values,\n",
        "    walking_train['Absolute acceleration (m/s^2)'].values,\n",
        "    running_train['Absolute acceleration (m/s^2)'].values\n",
        "])\n",
        "standing_testdata = standing_test['Absolute acceleration (m/s^2)'].values\n",
        "walking_testdata = walking_test['Absolute acceleration (m/s^2)'].values\n",
        "running_testdata = running_test['Absolute acceleration (m/s^2)'].values\n",
        "\n",
        "nStates = 3\n",
        "nSamples = len(combined_training_array)\n",
        "pX = np.zeros((nStates, nSamples))\n",
        "scale_factors = np.zeros(nSamples)\n",
        "for t in range(nSamples):\n",
        "    for j, g in enumerate([standing_distribution, walking_distribution, running_distribution]):\n",
        "        pX[j, t] = g.prob(combined_training_array[t])\n",
        "\n",
        "h.train(combined_training_array, pX)\n",
        "print('training is done!')"
      ],
      "metadata": {
        "colab": {
          "base_uri": "https://localhost:8080/",
          "height": 1000
        },
        "id": "tKudD2eV3HvU",
        "outputId": "5d83f5f4-755d-449f-8ebe-ee21e7e787d6"
      },
      "execution_count": 3,
      "outputs": [
        {
          "output_type": "stream",
          "name": "stdout",
          "text": [
            "A-matrix [[9.79218751e-01 2.06223540e-02 1.58894505e-04]\n",
            " [3.04670267e-02 9.60018057e-01 9.51491634e-03]\n",
            " [2.02903750e-04 7.71061540e-03 9.92086481e-01]]\n",
            "means 0.507439316703383\n",
            "std 0.39473294736306214\n",
            "means 2.5148214185400715\n",
            "std 1.0231641662243183\n",
            "means 14.873604845369034\n",
            "std 8.34156310499677\n",
            "B-matrix [[9.61880959e-001 1.01061964e+000 9.50849159e-001 ... 2.61806844e-167\n",
            "  2.51501375e-170 4.15124989e-172]\n",
            " [7.16680973e-002 5.73049346e-002 4.32868652e-002 ... 1.16242322e-017\n",
            "  4.99276503e-018 3.02832658e-018]\n",
            " [1.11343766e-002 1.08620368e-002 1.05477021e-002 ... 4.39423438e-002\n",
            "  4.41534901e-002 4.42749248e-002]]\n",
            "Iteration 1 complete\n",
            "A-matrix [[9.79530232e-01 2.04696824e-02 8.59619331e-08]\n",
            " [2.75514743e-02 9.66972232e-01 5.47629372e-03]\n",
            " [1.44547564e-07 4.44069857e-03 9.95559157e-01]]\n",
            "means 0.4622175385520439\n",
            "std 0.34585968705397474\n",
            "means 2.3820458871341557\n",
            "std 0.9462422232704037\n",
            "means 14.672869625355364\n",
            "std 8.373573055700525\n",
            "B-matrix [[1.02311704e+000 1.14200381e+000 1.11281705e+000 ... 1.86038988e-219\n",
            "  2.10348585e-223 9.81218573e-226]\n",
            " [7.61748087e-002 5.97038178e-002 4.39207643e-002 ... 5.29893361e-021\n",
            "  1.94410387e-021 1.07428499e-021]\n",
            " [1.16792660e-002 1.13996829e-002 1.10767588e-002 ... 4.42225775e-002\n",
            "  4.44209074e-002 4.45347722e-002]]\n",
            "Iteration 2 complete\n",
            "A-matrix [[9.79049955e-01 2.09500446e-02 3.40147988e-11]\n",
            " [2.53843811e-02 9.69829438e-01 4.78618122e-03]\n",
            " [7.86265950e-11 4.04531456e-03 9.95954685e-01]]\n",
            "means 0.42623153662186236\n",
            "std 0.3112969045448223\n",
            "means 2.2863239232539736\n",
            "std 0.9400434384486926\n",
            "means 14.586845446570683\n",
            "std 8.390933239512211\n",
            "B-matrix [[1.03091517e+000 1.23476719e+000 1.26048526e+000 ... 1.82155317e-272\n",
            "  2.35963571e-277 3.06166170e-280]\n",
            " [9.01423220e-002 7.13488649e-002 5.30824068e-002 ... 1.08473153e-021\n",
            "  3.88556306e-022 2.11702358e-022]\n",
            " [1.19252570e-002 1.16426648e-002 1.13161587e-002 ... 4.43170273e-002\n",
            "  4.45095965e-002 4.46200644e-002]]\n",
            "Iteration 3 complete\n",
            "A-matrix [[9.79783657e-01 2.02163427e-02 1.88710809e-14]\n",
            " [2.18559055e-02 9.73711493e-01 4.43260105e-03]\n",
            " [3.40006686e-14 3.95997597e-03 9.96040024e-01]]\n",
            "means 0.3921183006047419\n",
            "std 0.27954151479568623\n",
            "means 2.205860337497347\n",
            "std 0.9526634376067664\n",
            "means 14.559079437009085\n",
            "std 8.396895984389305\n",
            "B-matrix [[9.88755050e-01 1.30348720e+00 1.42249022e+00 ... 0.00000000e+00\n",
            "  0.00000000e+00 0.00000000e+00]\n",
            " [1.06907784e-01 8.60555550e-02 6.53391883e-02 ... 1.64995112e-21\n",
            "  6.01924408e-22 3.31534383e-22]\n",
            " [1.20059435e-02 1.17223945e-02 1.13947478e-02 ... 4.43446434e-02\n",
            "  4.45353296e-02 4.46446878e-02]]\n",
            "Iteration 4 complete\n",
            "The sequence is classified as standing!\n"
          ]
        },
        {
          "output_type": "execute_result",
          "data": {
            "text/plain": [
              "'sequence = h.viterbi(combined_training_array)\\nprint(sequence)'"
            ],
            "application/vnd.google.colaboratory.intrinsic+json": {
              "type": "string"
            }
          },
          "metadata": {},
          "execution_count": 3
        }
      ]
    },
    {
      "cell_type": "code",
      "source": [
        "seq = h.viterbi(standing_testdata)\n",
        "h.classify_sequence(seq)"
      ],
      "metadata": {
        "colab": {
          "base_uri": "https://localhost:8080/"
        },
        "id": "qAIb0gjG6EaQ",
        "outputId": "16e338cc-7f0a-45af-e87d-92981b17b077"
      },
      "execution_count": 6,
      "outputs": [
        {
          "output_type": "stream",
          "name": "stdout",
          "text": [
            "The sequence is classified as standing!\n"
          ]
        }
      ]
    },
    {
      "cell_type": "code",
      "source": [
        "seq = h.viterbi(running_testdata)\n",
        "h.classify_sequence(seq)"
      ],
      "metadata": {
        "colab": {
          "base_uri": "https://localhost:8080/"
        },
        "id": "4buaABvP4SL9",
        "outputId": "eb445903-78dc-4257-c75d-67fdcb30e85a"
      },
      "execution_count": 4,
      "outputs": [
        {
          "output_type": "stream",
          "name": "stdout",
          "text": [
            "The sequence is classified as running!\n"
          ]
        }
      ]
    },
    {
      "cell_type": "code",
      "source": [
        "seq = h.viterbi(walking_testdata)\n",
        "h.classify_sequence(seq)"
      ],
      "metadata": {
        "colab": {
          "base_uri": "https://localhost:8080/"
        },
        "id": "c807zIfM4VyE",
        "outputId": "aa5bf348-63ff-414a-b7fc-ef5ee86c3989"
      },
      "execution_count": 5,
      "outputs": [
        {
          "output_type": "stream",
          "name": "stdout",
          "text": [
            "The sequence is classified as walking!\n"
          ]
        }
      ]
    }
  ]
}
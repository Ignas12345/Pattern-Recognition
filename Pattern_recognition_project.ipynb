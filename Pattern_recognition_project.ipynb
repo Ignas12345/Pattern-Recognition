{
  "nbformat": 4,
  "nbformat_minor": 0,
  "metadata": {
    "colab": {
      "provenance": []
    },
    "kernelspec": {
      "name": "python3",
      "display_name": "Python 3"
    },
    "language_info": {
      "name": "python"
    }
  },
  "cells": [
    {
      "cell_type": "code",
      "execution_count": 1,
      "metadata": {
        "colab": {
          "base_uri": "https://localhost:8080/"
        },
        "id": "O6vOtUd12iFy",
        "outputId": "1bf5c219-d859-4521-d0ac-d32b24b63f71"
      },
      "outputs": [
        {
          "output_type": "stream",
          "name": "stdout",
          "text": [
            "Cloning into 'Pattern-Recognition'...\n",
            "remote: Enumerating objects: 49, done.\u001b[K\n",
            "remote: Counting objects: 100% (49/49), done.\u001b[K\n",
            "remote: Compressing objects: 100% (49/49), done.\u001b[K\n",
            "remote: Total 49 (delta 19), reused 0 (delta 0), pack-reused 0\u001b[K\n",
            "Receiving objects: 100% (49/49), 670.62 KiB | 5.04 MiB/s, done.\n",
            "Resolving deltas: 100% (19/19), done.\n"
          ]
        }
      ],
      "source": [
        "!git clone https://github.com/Ignas12345/Pattern-Recognition.git\n",
        "!mv Pattern-Recognition/* ./"
      ]
    },
    {
      "cell_type": "markdown",
      "source": [
        "Here is the main training loop. After each iteration, the means and variances of each gaussian (corresponding to the states of running, standing or walking) are printed. Also the transition matrix is printed."
      ],
      "metadata": {
        "id": "lq98q0YamgbZ"
      }
    },
    {
      "cell_type": "code",
      "source": [
        "import pandas as pd\n",
        "import matplotlib.pyplot as plt\n",
        "from GaussD import GaussD\n",
        "import numpy as np\n",
        "from MarkovChain import MarkovChain\n",
        "from HMM import HMM\n",
        "\n",
        "# So this function will be used to set up the paramaters for the gaussians at the start. We use the fact that we know what state each traing data sequence came from. We do not use this information when testing. So it's fine. Maybe.\n",
        "\n",
        "def initialize_emissions(activity_data):\n",
        "    standing_mean = activity_data[0]['Absolute acceleration (m/s^2)'].mean()\n",
        "    standing_std = activity_data[0]['Absolute acceleration (m/s^2)'].std()\n",
        "\n",
        "    walking_mean = activity_data[1]['Absolute acceleration (m/s^2)'].mean()\n",
        "    walking_std = activity_data[1]['Absolute acceleration (m/s^2)'].std()\n",
        "\n",
        "    running_mean = activity_data[2]['Absolute acceleration (m/s^2)'].mean()\n",
        "    running_std = activity_data[2]['Absolute acceleration (m/s^2)'].std()\n",
        "\n",
        "    standing_dist = [standing_mean, standing_std]\n",
        "    walking_dist = [walking_mean, walking_std]\n",
        "    running_dist = [running_mean, running_std]\n",
        "    return standing_dist, walking_dist, running_dist\n",
        "\n",
        "#Yeah, all of this is just accessing the training and testing data.\n",
        "\n",
        "file_path_running_train = 'train_sets/Acceleration_without_g_running_train_1.xls'\n",
        "file_path_standing_train = 'train_sets/Acceleration_without_g_standing_train_1.xls'\n",
        "file_path_walking_train = 'train_sets/Acceleration_without_g_walking_train_1.xls'\n",
        "\n",
        "file_path_running_test = 'test_sets/Acceleration_without_g_running_test_1.xls'\n",
        "file_path_standing_test = 'test_sets/Acceleration_without_g_standing_test_1.xls'\n",
        "file_path_walking_test = 'test_sets/Acceleration_without_g_walking_test_1.xls'\n",
        "\n",
        "# Load the data from Excel files\n",
        "running_train = pd.read_excel(file_path_running_train, engine='xlrd', usecols=[\"Absolute acceleration (m/s^2)\"])\n",
        "standing_train = pd.read_excel(file_path_standing_train, engine='xlrd', usecols=[\"Absolute acceleration (m/s^2)\"])\n",
        "walking_train = pd.read_excel(file_path_walking_train, engine='xlrd', usecols=[\"Absolute acceleration (m/s^2)\"])\n",
        "\n",
        "running_test = pd.read_excel(file_path_running_test, engine='xlrd', usecols=[\"Absolute acceleration (m/s^2)\"])\n",
        "standing_test = pd.read_excel(file_path_standing_test, engine='xlrd', usecols=[\"Absolute acceleration (m/s^2)\"])\n",
        "walking_test = pd.read_excel(file_path_walking_test, engine='xlrd', usecols=[\"Absolute acceleration (m/s^2)\"])\n",
        "\n",
        "#set up initial guesses for the transition matrix and the initial state array.\n",
        "\n",
        "q = np.array([1/3, 1/3, 1/3])\n",
        "A = np.array([\n",
        "    [0.9, 0.05, 0.05],\n",
        "    [0.05, 0.9, 0.05],\n",
        "    [0.05, 0.05, 0.9]\n",
        "])\n",
        "\n",
        "#Set up the Markov chain and the initial guesses.\n",
        "\n",
        "chain = MarkovChain(q, A)\n",
        "training_data = [standing_train, walking_train, running_train]\n",
        "initial_standing_distribution, initial_walking_distribution, initial_running_distribution = initialize_emissions(training_data)\n",
        "standing_distribution = GaussD(means=[initial_standing_distribution[0]], stdevs=[initial_standing_distribution[1]])\n",
        "walking_distribution = GaussD(means=[initial_walking_distribution[0]], stdevs=[initial_walking_distribution[1]])\n",
        "running_distribution = GaussD(means=[initial_running_distribution[0]], stdevs=[initial_running_distribution[1]])\n",
        "h = HMM(chain, [standing_distribution, walking_distribution, running_distribution])\n",
        "\n",
        "combined_training_array = np.concatenate([\n",
        "    standing_train['Absolute acceleration (m/s^2)'].values,\n",
        "    walking_train['Absolute acceleration (m/s^2)'].values,\n",
        "    running_train['Absolute acceleration (m/s^2)'].values\n",
        "])\n",
        "\n",
        "standing_testdata = standing_test['Absolute acceleration (m/s^2)'].values\n",
        "walking_testdata = walking_test['Absolute acceleration (m/s^2)'].values\n",
        "running_testdata = running_test['Absolute acceleration (m/s^2)'].values\n",
        "\n",
        "# calculate the likelihoods of each observation for each state.\n",
        "nStates = 3\n",
        "nSamples = len(combined_training_array)\n",
        "pX = np.zeros((nStates, nSamples))\n",
        "scale_factors = np.zeros(nSamples)\n",
        "for t in range(nSamples):\n",
        "    for j, g in enumerate([standing_distribution, walking_distribution, running_distribution]):\n",
        "        pX[j, t] = g.prob(combined_training_array[t])\n",
        "# Yeah, this runs the training loop (the EM algorithm) to calculate the probabilities of each observation coming from each state and the probabilities of being in a certain state at a certain observation.\n",
        "# This is done via forward and backward algorithms. Then, using EM update formulas from the book, the A (transition matrix) and B (the probability of being at a certain state at a given observation matrix) matrices are updated.\n",
        "# Also, the parameters of the gaussians are updated in this.\n",
        "# This is done for a few iterations.\n",
        "h.train(combined_training_array, pX)\n",
        "print('training is done!')"
      ],
      "metadata": {
        "colab": {
          "base_uri": "https://localhost:8080/"
        },
        "id": "tKudD2eV3HvU",
        "outputId": "967886bb-c120-43d6-cccc-30962e8beb6d"
      },
      "execution_count": 1,
      "outputs": [
        {
          "output_type": "stream",
          "name": "stdout",
          "text": [
            "A-matrix [[9.79218751e-01 2.06223540e-02 1.58894505e-04]\n",
            " [3.04670267e-02 9.60018057e-01 9.51491634e-03]\n",
            " [2.02903750e-04 7.71061540e-03 9.92086481e-01]]\n",
            "means 0.507439316703383\n",
            "std 0.39473294736306214\n",
            "means 2.5148214185400715\n",
            "std 1.0231641662243183\n",
            "means 14.873604845369034\n",
            "std 8.34156310499677\n",
            "Iteration 1 complete\n",
            "A-matrix [[9.79530232e-01 2.04696824e-02 8.59619331e-08]\n",
            " [2.75514743e-02 9.66972232e-01 5.47629372e-03]\n",
            " [1.44547564e-07 4.44069857e-03 9.95559157e-01]]\n",
            "means 0.4622175385520439\n",
            "std 0.34585968705397474\n",
            "means 2.3820458871341557\n",
            "std 0.9462422232704037\n",
            "means 14.672869625355364\n",
            "std 8.373573055700525\n",
            "Iteration 2 complete\n",
            "A-matrix [[9.79049955e-01 2.09500446e-02 3.40147988e-11]\n",
            " [2.53843811e-02 9.69829438e-01 4.78618122e-03]\n",
            " [7.86265950e-11 4.04531456e-03 9.95954685e-01]]\n",
            "means 0.42623153662186236\n",
            "std 0.3112969045448223\n",
            "means 2.2863239232539736\n",
            "std 0.9400434384486926\n",
            "means 14.586845446570683\n",
            "std 8.390933239512211\n",
            "Iteration 3 complete\n",
            "A-matrix [[9.79783657e-01 2.02163427e-02 1.88710809e-14]\n",
            " [2.18559055e-02 9.73711493e-01 4.43260105e-03]\n",
            " [3.40006686e-14 3.95997597e-03 9.96040024e-01]]\n",
            "means 0.3921183006047419\n",
            "std 0.27954151479568623\n",
            "means 2.205860337497347\n",
            "std 0.9526634376067664\n",
            "means 14.559079437009085\n",
            "std 8.396895984389305\n",
            "Iteration 4 complete\n",
            "training is done!\n"
          ]
        }
      ]
    },
    {
      "cell_type": "markdown",
      "source": [
        "In the following cells the Viterbi algorithm is used with the learned matrices and parameters to calculate the most likely state sequence for each sequence of of the test data. Then the state which occurs most often is picked to classify the sequence as either running, walking or standing."
      ],
      "metadata": {
        "id": "9FWFvN4BpbCn"
      }
    },
    {
      "cell_type": "code",
      "source": [
        "seq = h.viterbi(standing_testdata)\n",
        "h.classify_sequence(seq)"
      ],
      "metadata": {
        "colab": {
          "base_uri": "https://localhost:8080/"
        },
        "id": "qAIb0gjG6EaQ",
        "outputId": "e74c6efa-c293-4c35-9705-8a3158f03f56"
      },
      "execution_count": 2,
      "outputs": [
        {
          "output_type": "stream",
          "name": "stdout",
          "text": [
            "The sequence is classified as standing!\n"
          ]
        }
      ]
    },
    {
      "cell_type": "code",
      "source": [
        "seq = h.viterbi(running_testdata)\n",
        "h.classify_sequence(seq)"
      ],
      "metadata": {
        "colab": {
          "base_uri": "https://localhost:8080/"
        },
        "id": "4buaABvP4SL9",
        "outputId": "f0a88361-bc70-455b-9297-16402594dbaa"
      },
      "execution_count": 5,
      "outputs": [
        {
          "output_type": "stream",
          "name": "stdout",
          "text": [
            "The sequence is classified as running!\n"
          ]
        }
      ]
    },
    {
      "cell_type": "code",
      "source": [
        "seq = h.viterbi(walking_testdata)\n",
        "h.classify_sequence(seq)"
      ],
      "metadata": {
        "colab": {
          "base_uri": "https://localhost:8080/"
        },
        "id": "c807zIfM4VyE",
        "outputId": "57b81456-a7fe-4d6e-a4fb-d7c4e59184c1"
      },
      "execution_count": 6,
      "outputs": [
        {
          "output_type": "stream",
          "name": "stdout",
          "text": [
            "The sequence is classified as walking!\n"
          ]
        }
      ]
    }
  ]
}